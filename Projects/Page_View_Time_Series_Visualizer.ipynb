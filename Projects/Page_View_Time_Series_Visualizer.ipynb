{
  "nbformat": 4,
  "nbformat_minor": 0,
  "metadata": {
    "colab": {
      "name": "Page View Time Series Visualizer.ipynb",
      "provenance": [],
      "authorship_tag": "ABX9TyM5NkMeVE+Z8FwIUW5HB4z8",
      "include_colab_link": true
    },
    "kernelspec": {
      "name": "python3",
      "display_name": "Python 3"
    },
    "language_info": {
      "name": "python"
    }
  },
  "cells": [
    {
      "cell_type": "markdown",
      "metadata": {
        "id": "view-in-github",
        "colab_type": "text"
      },
      "source": [
        "<a href=\"https://colab.research.google.com/github/Mukeshvudayagiri/keep-coding-python/blob/main/Projects/Page_View_Time_Series_Visualizer.ipynb\" target=\"_parent\"><img src=\"https://colab.research.google.com/assets/colab-badge.svg\" alt=\"Open In Colab\"/></a>"
      ]
    },
    {
      "cell_type": "markdown",
      "metadata": {
        "id": "GyPjz5uz3qLV"
      },
      "source": [
        "#### Page View Time Series Visualizer Project \n"
      ]
    },
    {
      "cell_type": "code",
      "metadata": {
        "id": "4-wuakQQ3usS",
        "colab": {
          "base_uri": "https://localhost:8080/",
          "height": 234
        },
        "outputId": "07369618-c200-4abf-86f4-bb7ad0069d21"
      },
      "source": [
        "import pandas as pd \n",
        "import numpy as np \n",
        "import seaborn as sns \n",
        "import matplotlib.pyplot as plt\n",
        "\n",
        "#import csv \n",
        "\n",
        "df = pd.read_csv('/content/sample_data/fcc-forum-pageviews.csv', parse_dates=['date'], index_col='date')\n",
        "df.head()\n",
        "# df.value.count()"
      ],
      "execution_count": 1,
      "outputs": [
        {
          "output_type": "execute_result",
          "data": {
            "text/html": [
              "<div>\n",
              "<style scoped>\n",
              "    .dataframe tbody tr th:only-of-type {\n",
              "        vertical-align: middle;\n",
              "    }\n",
              "\n",
              "    .dataframe tbody tr th {\n",
              "        vertical-align: top;\n",
              "    }\n",
              "\n",
              "    .dataframe thead th {\n",
              "        text-align: right;\n",
              "    }\n",
              "</style>\n",
              "<table border=\"1\" class=\"dataframe\">\n",
              "  <thead>\n",
              "    <tr style=\"text-align: right;\">\n",
              "      <th></th>\n",
              "      <th>value</th>\n",
              "    </tr>\n",
              "    <tr>\n",
              "      <th>date</th>\n",
              "      <th></th>\n",
              "    </tr>\n",
              "  </thead>\n",
              "  <tbody>\n",
              "    <tr>\n",
              "      <th>2016-09-05</th>\n",
              "      <td>1201</td>\n",
              "    </tr>\n",
              "    <tr>\n",
              "      <th>2016-10-05</th>\n",
              "      <td>2329</td>\n",
              "    </tr>\n",
              "    <tr>\n",
              "      <th>2016-11-05</th>\n",
              "      <td>1716</td>\n",
              "    </tr>\n",
              "    <tr>\n",
              "      <th>2016-12-05</th>\n",
              "      <td>10539</td>\n",
              "    </tr>\n",
              "    <tr>\n",
              "      <th>2016-05-13</th>\n",
              "      <td>6933</td>\n",
              "    </tr>\n",
              "  </tbody>\n",
              "</table>\n",
              "</div>"
            ],
            "text/plain": [
              "            value\n",
              "date             \n",
              "2016-09-05   1201\n",
              "2016-10-05   2329\n",
              "2016-11-05   1716\n",
              "2016-12-05  10539\n",
              "2016-05-13   6933"
            ]
          },
          "metadata": {
            "tags": []
          },
          "execution_count": 1
        }
      ]
    },
    {
      "cell_type": "code",
      "metadata": {
        "colab": {
          "base_uri": "https://localhost:8080/",
          "height": 447
        },
        "id": "vZEPLaoQHEtf",
        "outputId": "cbd930e1-acbc-454b-b511-32df7f63c9cd"
      },
      "source": [
        "#Clean the data by filtering out days when the page views were in the top 2.5% of the dataset or bottom 2.5% of the dataset.\n",
        "\n",
        "df = df[\n",
        "                  (df['value'] >= df['value'].quantile(0.025)) & \n",
        "                  (df['value'] <= df['value'].quantile(0.975))]\n",
        "# df.value.count()\n",
        "df\n",
        "\n"
      ],
      "execution_count": 2,
      "outputs": [
        {
          "output_type": "execute_result",
          "data": {
            "text/html": [
              "<div>\n",
              "<style scoped>\n",
              "    .dataframe tbody tr th:only-of-type {\n",
              "        vertical-align: middle;\n",
              "    }\n",
              "\n",
              "    .dataframe tbody tr th {\n",
              "        vertical-align: top;\n",
              "    }\n",
              "\n",
              "    .dataframe thead th {\n",
              "        text-align: right;\n",
              "    }\n",
              "</style>\n",
              "<table border=\"1\" class=\"dataframe\">\n",
              "  <thead>\n",
              "    <tr style=\"text-align: right;\">\n",
              "      <th></th>\n",
              "      <th>value</th>\n",
              "    </tr>\n",
              "    <tr>\n",
              "      <th>date</th>\n",
              "      <th></th>\n",
              "    </tr>\n",
              "  </thead>\n",
              "  <tbody>\n",
              "    <tr>\n",
              "      <th>2016-05-19</th>\n",
              "      <td>19736</td>\n",
              "    </tr>\n",
              "    <tr>\n",
              "      <th>2016-05-26</th>\n",
              "      <td>18060</td>\n",
              "    </tr>\n",
              "    <tr>\n",
              "      <th>2016-05-27</th>\n",
              "      <td>19997</td>\n",
              "    </tr>\n",
              "    <tr>\n",
              "      <th>2016-05-28</th>\n",
              "      <td>19044</td>\n",
              "    </tr>\n",
              "    <tr>\n",
              "      <th>2016-05-29</th>\n",
              "      <td>20325</td>\n",
              "    </tr>\n",
              "    <tr>\n",
              "      <th>...</th>\n",
              "      <td>...</td>\n",
              "    </tr>\n",
              "    <tr>\n",
              "      <th>2019-11-24</th>\n",
              "      <td>138875</td>\n",
              "    </tr>\n",
              "    <tr>\n",
              "      <th>2019-11-29</th>\n",
              "      <td>171584</td>\n",
              "    </tr>\n",
              "    <tr>\n",
              "      <th>2019-11-30</th>\n",
              "      <td>141161</td>\n",
              "    </tr>\n",
              "    <tr>\n",
              "      <th>2019-01-12</th>\n",
              "      <td>142918</td>\n",
              "    </tr>\n",
              "    <tr>\n",
              "      <th>2019-03-12</th>\n",
              "      <td>158549</td>\n",
              "    </tr>\n",
              "  </tbody>\n",
              "</table>\n",
              "<p>1238 rows × 1 columns</p>\n",
              "</div>"
            ],
            "text/plain": [
              "             value\n",
              "date              \n",
              "2016-05-19   19736\n",
              "2016-05-26   18060\n",
              "2016-05-27   19997\n",
              "2016-05-28   19044\n",
              "2016-05-29   20325\n",
              "...            ...\n",
              "2019-11-24  138875\n",
              "2019-11-29  171584\n",
              "2019-11-30  141161\n",
              "2019-01-12  142918\n",
              "2019-03-12  158549\n",
              "\n",
              "[1238 rows x 1 columns]"
            ]
          },
          "metadata": {
            "tags": []
          },
          "execution_count": 2
        }
      ]
    },
    {
      "cell_type": "code",
      "metadata": {
        "colab": {
          "base_uri": "https://localhost:8080/",
          "height": 367
        },
        "id": "hzD6WBvmI43w",
        "outputId": "93b8923f-6549-4f1e-e9ef-244238cb6052"
      },
      "source": [
        "#Create a draw_line_plot function that uses Matplotlib to draw a line chart similar to \"examples/Figure_1.png\". \n",
        "# The title should be \"Daily freeCodeCamp Forum Page Views 5/2016-12/2019\". \n",
        "# The label on the x axis should be \"Date\" and the label on the y axis should be \"Page Views\".\n",
        "\n",
        "fig, ax = plt.subplots(figsize = (15, 5))\n",
        "ax.plot(df.index, df['value'], 'r', linewidth = 1)\n",
        "\n",
        "ax.set_title('Daily freeCodeCamp Forum Page Views 5/2016-12/2019')\n",
        "ax.set_xlabel('Date')\n",
        "ax.set_ylabel('Page Views')"
      ],
      "execution_count": 3,
      "outputs": [
        {
          "output_type": "execute_result",
          "data": {
            "text/plain": [
              "Text(0, 0.5, 'Page Views')"
            ]
          },
          "metadata": {
            "tags": []
          },
          "execution_count": 3
        },
        {
          "output_type": "display_data",
          "data": {
            "image/png": "[encoded data removed]",
            "text/plain": [
              "<Figure size 1080x360 with 1 Axes>"
            ]
          },
          "metadata": {
            "tags": [],
            "needs_background": "light"
          }
        }
      ]
    },
    {
      "cell_type": "code",
      "metadata": {
        "colab": {
          "base_uri": "https://localhost:8080/",
          "height": 223
        },
        "id": "y9ooIN09PEJB",
        "outputId": "1fff8329-ccd3-4eb5-ddd3-6fd78ca2a775"
      },
      "source": [
        "# Create a draw_bar_plot function that draws a bar chart similar to \"examples/Figure_2.png\".\n",
        "#  It should show average daily page views for each month grouped by year. \n",
        "#  The legend should show month labels and have a title of \"Months\". On the chart, the label \n",
        "# on the x axis should be \"Years\" and the label on the y axis should be \"Average Page Views\".\n",
        "\n",
        "df['month'] = df.index.month\n",
        "df['year'] = df.index.year\n",
        "\n",
        "df_group = df.groupby(['year', 'month'])['value'].mean()\n",
        "# df_group = df.groupby(['year', 'month'], as_index = False)['value'].mean()\n",
        "df_group = df_group.unstack()\n",
        "df_group\n",
        "\n"
      ],
      "execution_count": 8,
      "outputs": [
        {
          "output_type": "execute_result",
          "data": {
            "text/html": [
              "<div>\n",
              "<style scoped>\n",
              "    .dataframe tbody tr th:only-of-type {\n",
              "        vertical-align: middle;\n",
              "    }\n",
              "\n",
              "    .dataframe tbody tr th {\n",
              "        vertical-align: top;\n",
              "    }\n",
              "\n",
              "    .dataframe thead th {\n",
              "        text-align: right;\n",
              "    }\n",
              "</style>\n",
              "<table border=\"1\" class=\"dataframe\">\n",
              "  <thead>\n",
              "    <tr style=\"text-align: right;\">\n",
              "      <th>month</th>\n",
              "      <th>1</th>\n",
              "      <th>2</th>\n",
              "      <th>3</th>\n",
              "      <th>4</th>\n",
              "      <th>5</th>\n",
              "      <th>6</th>\n",
              "      <th>7</th>\n",
              "      <th>8</th>\n",
              "      <th>9</th>\n",
              "      <th>10</th>\n",
              "      <th>11</th>\n",
              "      <th>12</th>\n",
              "    </tr>\n",
              "    <tr>\n",
              "      <th>year</th>\n",
              "      <th></th>\n",
              "      <th></th>\n",
              "      <th></th>\n",
              "      <th></th>\n",
              "      <th></th>\n",
              "      <th></th>\n",
              "      <th></th>\n",
              "      <th></th>\n",
              "      <th></th>\n",
              "      <th></th>\n",
              "      <th></th>\n",
              "      <th></th>\n",
              "    </tr>\n",
              "  </thead>\n",
              "  <tbody>\n",
              "    <tr>\n",
              "      <th>2016</th>\n",
              "      <td>32954.833333</td>\n",
              "      <td>31838.333333</td>\n",
              "      <td>29222.833333</td>\n",
              "      <td>29929.666667</td>\n",
              "      <td>24993.545455</td>\n",
              "      <td>23758.727273</td>\n",
              "      <td>24558.652174</td>\n",
              "      <td>32791.576923</td>\n",
              "      <td>38499.600000</td>\n",
              "      <td>29471.720000</td>\n",
              "      <td>40226.458333</td>\n",
              "      <td>27874.400000</td>\n",
              "    </tr>\n",
              "    <tr>\n",
              "      <th>2017</th>\n",
              "      <td>35360.096774</td>\n",
              "      <td>34740.214286</td>\n",
              "      <td>34302.548387</td>\n",
              "      <td>36625.333333</td>\n",
              "      <td>38596.741935</td>\n",
              "      <td>43772.166667</td>\n",
              "      <td>58529.451613</td>\n",
              "      <td>44904.516129</td>\n",
              "      <td>44812.533333</td>\n",
              "      <td>45289.483871</td>\n",
              "      <td>54077.900000</td>\n",
              "      <td>45756.870968</td>\n",
              "    </tr>\n",
              "    <tr>\n",
              "      <th>2018</th>\n",
              "      <td>57866.193548</td>\n",
              "      <td>65091.962963</td>\n",
              "      <td>62594.483871</td>\n",
              "      <td>61587.933333</td>\n",
              "      <td>64467.000000</td>\n",
              "      <td>69043.566667</td>\n",
              "      <td>65649.064516</td>\n",
              "      <td>67390.032258</td>\n",
              "      <td>66101.366667</td>\n",
              "      <td>100171.344828</td>\n",
              "      <td>77890.400000</td>\n",
              "      <td>78255.838710</td>\n",
              "    </tr>\n",
              "    <tr>\n",
              "      <th>2019</th>\n",
              "      <td>102582.290323</td>\n",
              "      <td>102123.481481</td>\n",
              "      <td>98937.322581</td>\n",
              "      <td>91769.000000</td>\n",
              "      <td>96874.413793</td>\n",
              "      <td>89267.320000</td>\n",
              "      <td>94134.607143</td>\n",
              "      <td>103596.266667</td>\n",
              "      <td>100070.896552</td>\n",
              "      <td>115110.200000</td>\n",
              "      <td>123875.388889</td>\n",
              "      <td>103512.500000</td>\n",
              "    </tr>\n",
              "  </tbody>\n",
              "</table>\n",
              "</div>"
            ],
            "text/plain": [
              "month             1              2   ...             11             12\n",
              "year                                 ...                              \n",
              "2016    32954.833333   31838.333333  ...   40226.458333   27874.400000\n",
              "2017    35360.096774   34740.214286  ...   54077.900000   45756.870968\n",
              "2018    57866.193548   65091.962963  ...   77890.400000   78255.838710\n",
              "2019   102582.290323  102123.481481  ...  123875.388889  103512.500000\n",
              "\n",
              "[4 rows x 12 columns]"
            ]
          },
          "metadata": {
            "tags": []
          },
          "execution_count": 8
        }
      ]
    },
    {
      "cell_type": "code",
      "metadata": {
        "colab": {
          "base_uri": "https://localhost:8080/",
          "height": 475
        },
        "id": "8840qSYecjHA",
        "outputId": "6a1a4f28-658d-4752-8061-a6a8211b1565"
      },
      "source": [
        "box_plot = df_group.plot.bar(legend=True, figsize=(10,7), xlabel='Years', ylabel= 'Average Page Views' )\n",
        "plt.legend(['January', 'February', 'March', 'April', 'May', 'June', 'July', 'August', 'September', 'October', 'November', 'December'])"
      ],
      "execution_count": 9,
      "outputs": [
        {
          "output_type": "execute_result",
          "data": {
            "text/plain": [
              "<matplotlib.legend.Legend at 0x7f8a362c3290>"
            ]
          },
          "metadata": {
            "tags": []
          },
          "execution_count": 9
        },
        {
          "output_type": "display_data",
          "data": {
            "image/png": "[encoded data removed]",
            "text/plain": [
              "<Figure size 720x504 with 1 Axes>"
            ]
          },
          "metadata": {
            "tags": [],
            "needs_background": "light"
          }
        }
      ]
    },
    {
      "cell_type": "code",
      "metadata": {
        "colab": {
          "base_uri": "https://localhost:8080/",
          "height": 417
        },
        "id": "ftmyD1WPBdkB",
        "outputId": "459bd8a6-983f-49cd-815b-3b71eeb28e22"
      },
      "source": [
        "# Create a draw_box_plot function that uses Searborn\n",
        "\n",
        "df_box = df.copy()\n",
        "df_box\n",
        "df_box.reset_index(inplace=True)\n",
        "df_box\n",
        "# df_box=df_box.sort_values('month')\n",
        "# df_box\n",
        "df_box['year'] = [d.year for d in df_box.date]\n",
        "df_box\n",
        "df_box['month'] = [d.strftime('%b') for d in df_box.date]\n",
        "df_box\n",
        "df_box=df_box.sort_values('month')\n",
        "df_box"
      ],
      "execution_count": 43,
      "outputs": [
        {
          "output_type": "execute_result",
          "data": {
            "text/html": [
              "<div>\n",
              "<style scoped>\n",
              "    .dataframe tbody tr th:only-of-type {\n",
              "        vertical-align: middle;\n",
              "    }\n",
              "\n",
              "    .dataframe tbody tr th {\n",
              "        vertical-align: top;\n",
              "    }\n",
              "\n",
              "    .dataframe thead th {\n",
              "        text-align: right;\n",
              "    }\n",
              "</style>\n",
              "<table border=\"1\" class=\"dataframe\">\n",
              "  <thead>\n",
              "    <tr style=\"text-align: right;\">\n",
              "      <th></th>\n",
              "      <th>date</th>\n",
              "      <th>value</th>\n",
              "      <th>month</th>\n",
              "      <th>year</th>\n",
              "    </tr>\n",
              "  </thead>\n",
              "  <tbody>\n",
              "    <tr>\n",
              "      <th>573</th>\n",
              "      <td>2018-04-01</td>\n",
              "      <td>58910</td>\n",
              "      <td>Apr</td>\n",
              "      <td>2018</td>\n",
              "    </tr>\n",
              "    <tr>\n",
              "      <th>1036</th>\n",
              "      <td>2019-04-15</td>\n",
              "      <td>92015</td>\n",
              "      <td>Apr</td>\n",
              "      <td>2019</td>\n",
              "    </tr>\n",
              "    <tr>\n",
              "      <th>1037</th>\n",
              "      <td>2019-04-16</td>\n",
              "      <td>98066</td>\n",
              "      <td>Apr</td>\n",
              "      <td>2019</td>\n",
              "    </tr>\n",
              "    <tr>\n",
              "      <th>1038</th>\n",
              "      <td>2019-04-17</td>\n",
              "      <td>100099</td>\n",
              "      <td>Apr</td>\n",
              "      <td>2019</td>\n",
              "    </tr>\n",
              "    <tr>\n",
              "      <th>1039</th>\n",
              "      <td>2019-04-18</td>\n",
              "      <td>86821</td>\n",
              "      <td>Apr</td>\n",
              "      <td>2019</td>\n",
              "    </tr>\n",
              "    <tr>\n",
              "      <th>...</th>\n",
              "      <td>...</td>\n",
              "      <td>...</td>\n",
              "      <td>...</td>\n",
              "      <td>...</td>\n",
              "    </tr>\n",
              "    <tr>\n",
              "      <th>463</th>\n",
              "      <td>2017-09-16</td>\n",
              "      <td>42710</td>\n",
              "      <td>Sep</td>\n",
              "      <td>2017</td>\n",
              "    </tr>\n",
              "    <tr>\n",
              "      <th>121</th>\n",
              "      <td>2016-09-10</td>\n",
              "      <td>23573</td>\n",
              "      <td>Sep</td>\n",
              "      <td>2016</td>\n",
              "    </tr>\n",
              "    <tr>\n",
              "      <th>1147</th>\n",
              "      <td>2019-09-08</td>\n",
              "      <td>93534</td>\n",
              "      <td>Sep</td>\n",
              "      <td>2019</td>\n",
              "    </tr>\n",
              "    <tr>\n",
              "      <th>460</th>\n",
              "      <td>2017-09-13</td>\n",
              "      <td>52552</td>\n",
              "      <td>Sep</td>\n",
              "      <td>2017</td>\n",
              "    </tr>\n",
              "    <tr>\n",
              "      <th>467</th>\n",
              "      <td>2017-09-20</td>\n",
              "      <td>51792</td>\n",
              "      <td>Sep</td>\n",
              "      <td>2017</td>\n",
              "    </tr>\n",
              "  </tbody>\n",
              "</table>\n",
              "<p>1238 rows × 4 columns</p>\n",
              "</div>"
            ],
            "text/plain": [
              "           date   value month  year\n",
              "573  2018-04-01   58910   Apr  2018\n",
              "1036 2019-04-15   92015   Apr  2019\n",
              "1037 2019-04-16   98066   Apr  2019\n",
              "1038 2019-04-17  100099   Apr  2019\n",
              "1039 2019-04-18   86821   Apr  2019\n",
              "...         ...     ...   ...   ...\n",
              "463  2017-09-16   42710   Sep  2017\n",
              "121  2016-09-10   23573   Sep  2016\n",
              "1147 2019-09-08   93534   Sep  2019\n",
              "460  2017-09-13   52552   Sep  2017\n",
              "467  2017-09-20   51792   Sep  2017\n",
              "\n",
              "[1238 rows x 4 columns]"
            ]
          },
          "metadata": {
            "tags": []
          },
          "execution_count": 43
        }
      ]
    },
    {
      "cell_type": "code",
      "metadata": {
        "colab": {
          "base_uri": "https://localhost:8080/",
          "height": 417
        },
        "id": "vBr3cK1qF81S",
        "outputId": "7e51f80a-8ce2-4916-f288-9835ec59fced"
      },
      "source": [
        "df_box['month_num'] = df_box['date'].dt.month\n",
        "df_box"
      ],
      "execution_count": 27,
      "outputs": [
        {
          "output_type": "execute_result",
          "data": {
            "text/html": [
              "<div>\n",
              "<style scoped>\n",
              "    .dataframe tbody tr th:only-of-type {\n",
              "        vertical-align: middle;\n",
              "    }\n",
              "\n",
              "    .dataframe tbody tr th {\n",
              "        vertical-align: top;\n",
              "    }\n",
              "\n",
              "    .dataframe thead th {\n",
              "        text-align: right;\n",
              "    }\n",
              "</style>\n",
              "<table border=\"1\" class=\"dataframe\">\n",
              "  <thead>\n",
              "    <tr style=\"text-align: right;\">\n",
              "      <th></th>\n",
              "      <th>date</th>\n",
              "      <th>value</th>\n",
              "      <th>month</th>\n",
              "      <th>year</th>\n",
              "      <th>month_num</th>\n",
              "    </tr>\n",
              "  </thead>\n",
              "  <tbody>\n",
              "    <tr>\n",
              "      <th>0</th>\n",
              "      <td>2016-05-19</td>\n",
              "      <td>19736</td>\n",
              "      <td>May</td>\n",
              "      <td>2016</td>\n",
              "      <td>5</td>\n",
              "    </tr>\n",
              "    <tr>\n",
              "      <th>1</th>\n",
              "      <td>2016-05-26</td>\n",
              "      <td>18060</td>\n",
              "      <td>May</td>\n",
              "      <td>2016</td>\n",
              "      <td>5</td>\n",
              "    </tr>\n",
              "    <tr>\n",
              "      <th>2</th>\n",
              "      <td>2016-05-27</td>\n",
              "      <td>19997</td>\n",
              "      <td>May</td>\n",
              "      <td>2016</td>\n",
              "      <td>5</td>\n",
              "    </tr>\n",
              "    <tr>\n",
              "      <th>3</th>\n",
              "      <td>2016-05-28</td>\n",
              "      <td>19044</td>\n",
              "      <td>May</td>\n",
              "      <td>2016</td>\n",
              "      <td>5</td>\n",
              "    </tr>\n",
              "    <tr>\n",
              "      <th>4</th>\n",
              "      <td>2016-05-29</td>\n",
              "      <td>20325</td>\n",
              "      <td>May</td>\n",
              "      <td>2016</td>\n",
              "      <td>5</td>\n",
              "    </tr>\n",
              "    <tr>\n",
              "      <th>...</th>\n",
              "      <td>...</td>\n",
              "      <td>...</td>\n",
              "      <td>...</td>\n",
              "      <td>...</td>\n",
              "      <td>...</td>\n",
              "    </tr>\n",
              "    <tr>\n",
              "      <th>1233</th>\n",
              "      <td>2019-11-24</td>\n",
              "      <td>138875</td>\n",
              "      <td>Nov</td>\n",
              "      <td>2019</td>\n",
              "      <td>11</td>\n",
              "    </tr>\n",
              "    <tr>\n",
              "      <th>1234</th>\n",
              "      <td>2019-11-29</td>\n",
              "      <td>171584</td>\n",
              "      <td>Nov</td>\n",
              "      <td>2019</td>\n",
              "      <td>11</td>\n",
              "    </tr>\n",
              "    <tr>\n",
              "      <th>1235</th>\n",
              "      <td>2019-11-30</td>\n",
              "      <td>141161</td>\n",
              "      <td>Nov</td>\n",
              "      <td>2019</td>\n",
              "      <td>11</td>\n",
              "    </tr>\n",
              "    <tr>\n",
              "      <th>1236</th>\n",
              "      <td>2019-01-12</td>\n",
              "      <td>142918</td>\n",
              "      <td>Jan</td>\n",
              "      <td>2019</td>\n",
              "      <td>1</td>\n",
              "    </tr>\n",
              "    <tr>\n",
              "      <th>1237</th>\n",
              "      <td>2019-03-12</td>\n",
              "      <td>158549</td>\n",
              "      <td>Mar</td>\n",
              "      <td>2019</td>\n",
              "      <td>3</td>\n",
              "    </tr>\n",
              "  </tbody>\n",
              "</table>\n",
              "<p>1238 rows × 5 columns</p>\n",
              "</div>"
            ],
            "text/plain": [
              "           date   value month  year  month_num\n",
              "0    2016-05-19   19736   May  2016          5\n",
              "1    2016-05-26   18060   May  2016          5\n",
              "2    2016-05-27   19997   May  2016          5\n",
              "3    2016-05-28   19044   May  2016          5\n",
              "4    2016-05-29   20325   May  2016          5\n",
              "...         ...     ...   ...   ...        ...\n",
              "1233 2019-11-24  138875   Nov  2019         11\n",
              "1234 2019-11-29  171584   Nov  2019         11\n",
              "1235 2019-11-30  141161   Nov  2019         11\n",
              "1236 2019-01-12  142918   Jan  2019          1\n",
              "1237 2019-03-12  158549   Mar  2019          3\n",
              "\n",
              "[1238 rows x 5 columns]"
            ]
          },
          "metadata": {
            "tags": []
          },
          "execution_count": 27
        }
      ]
    },
    {
      "cell_type": "code",
      "metadata": {
        "colab": {
          "base_uri": "https://localhost:8080/",
          "height": 417
        },
        "id": "FzqGo2EiGbmU",
        "outputId": "2486dbe5-757d-4170-f3cd-ec6b25a01196"
      },
      "source": [
        "df_box = df_box.sort_values('month_num')\n",
        "df_box "
      ],
      "execution_count": 30,
      "outputs": [
        {
          "output_type": "execute_result",
          "data": {
            "text/html": [
              "<div>\n",
              "<style scoped>\n",
              "    .dataframe tbody tr th:only-of-type {\n",
              "        vertical-align: middle;\n",
              "    }\n",
              "\n",
              "    .dataframe tbody tr th {\n",
              "        vertical-align: top;\n",
              "    }\n",
              "\n",
              "    .dataframe thead th {\n",
              "        text-align: right;\n",
              "    }\n",
              "</style>\n",
              "<table border=\"1\" class=\"dataframe\">\n",
              "  <thead>\n",
              "    <tr style=\"text-align: right;\">\n",
              "      <th></th>\n",
              "      <th>date</th>\n",
              "      <th>value</th>\n",
              "      <th>month</th>\n",
              "      <th>year</th>\n",
              "      <th>month_num</th>\n",
              "    </tr>\n",
              "  </thead>\n",
              "  <tbody>\n",
              "    <tr>\n",
              "      <th>228</th>\n",
              "      <td>2017-01-24</td>\n",
              "      <td>33083</td>\n",
              "      <td>Jan</td>\n",
              "      <td>2017</td>\n",
              "      <td>1</td>\n",
              "    </tr>\n",
              "    <tr>\n",
              "      <th>222</th>\n",
              "      <td>2017-01-18</td>\n",
              "      <td>30628</td>\n",
              "      <td>Jan</td>\n",
              "      <td>2017</td>\n",
              "      <td>1</td>\n",
              "    </tr>\n",
              "    <tr>\n",
              "      <th>961</th>\n",
              "      <td>2019-01-30</td>\n",
              "      <td>106844</td>\n",
              "      <td>Jan</td>\n",
              "      <td>2019</td>\n",
              "      <td>1</td>\n",
              "    </tr>\n",
              "    <tr>\n",
              "      <th>962</th>\n",
              "      <td>2019-01-31</td>\n",
              "      <td>115145</td>\n",
              "      <td>Jan</td>\n",
              "      <td>2019</td>\n",
              "      <td>1</td>\n",
              "    </tr>\n",
              "    <tr>\n",
              "      <th>600</th>\n",
              "      <td>2018-01-31</td>\n",
              "      <td>61732</td>\n",
              "      <td>Jan</td>\n",
              "      <td>2018</td>\n",
              "      <td>1</td>\n",
              "    </tr>\n",
              "    <tr>\n",
              "      <th>...</th>\n",
              "      <td>...</td>\n",
              "      <td>...</td>\n",
              "      <td>...</td>\n",
              "      <td>...</td>\n",
              "      <td>...</td>\n",
              "    </tr>\n",
              "    <tr>\n",
              "      <th>192</th>\n",
              "      <td>2016-12-19</td>\n",
              "      <td>28247</td>\n",
              "      <td>Dec</td>\n",
              "      <td>2016</td>\n",
              "      <td>12</td>\n",
              "    </tr>\n",
              "    <tr>\n",
              "      <th>63</th>\n",
              "      <td>2016-12-08</td>\n",
              "      <td>29488</td>\n",
              "      <td>Dec</td>\n",
              "      <td>2016</td>\n",
              "      <td>12</td>\n",
              "    </tr>\n",
              "    <tr>\n",
              "      <th>640</th>\n",
              "      <td>2018-12-03</td>\n",
              "      <td>66045</td>\n",
              "      <td>Dec</td>\n",
              "      <td>2018</td>\n",
              "      <td>12</td>\n",
              "    </tr>\n",
              "    <tr>\n",
              "      <th>921</th>\n",
              "      <td>2018-12-21</td>\n",
              "      <td>85083</td>\n",
              "      <td>Dec</td>\n",
              "      <td>2018</td>\n",
              "      <td>12</td>\n",
              "    </tr>\n",
              "    <tr>\n",
              "      <th>1181</th>\n",
              "      <td>2019-12-09</td>\n",
              "      <td>101739</td>\n",
              "      <td>Dec</td>\n",
              "      <td>2019</td>\n",
              "      <td>12</td>\n",
              "    </tr>\n",
              "  </tbody>\n",
              "</table>\n",
              "<p>1238 rows × 5 columns</p>\n",
              "</div>"
            ],
            "text/plain": [
              "           date   value month  year  month_num\n",
              "228  2017-01-24   33083   Jan  2017          1\n",
              "222  2017-01-18   30628   Jan  2017          1\n",
              "961  2019-01-30  106844   Jan  2019          1\n",
              "962  2019-01-31  115145   Jan  2019          1\n",
              "600  2018-01-31   61732   Jan  2018          1\n",
              "...         ...     ...   ...   ...        ...\n",
              "192  2016-12-19   28247   Dec  2016         12\n",
              "63   2016-12-08   29488   Dec  2016         12\n",
              "640  2018-12-03   66045   Dec  2018         12\n",
              "921  2018-12-21   85083   Dec  2018         12\n",
              "1181 2019-12-09  101739   Dec  2019         12\n",
              "\n",
              "[1238 rows x 5 columns]"
            ]
          },
          "metadata": {
            "tags": []
          },
          "execution_count": 30
        }
      ]
    },
    {
      "cell_type": "code",
      "metadata": {
        "colab": {
          "base_uri": "https://localhost:8080/",
          "height": 334
        },
        "id": "mNq7tusNG7j_",
        "outputId": "29a4e8df-9884-42d5-c403-725c27c30d9d"
      },
      "source": [
        "fig, ax = plt.subplots(nrows=1, ncols=2, figsize=(10,5))\n",
        "ax[0] = sns.boxplot(x=df_box['year'], y=df_box['value'], ax=ax[0])\n",
        "ax[1] = sns.boxplot(x=df_box['month'], y=df_box['value'], ax = ax[1])"
      ],
      "execution_count": 33,
      "outputs": [
        {
          "output_type": "display_data",
          "data": {
            "image/png": "[encoded data removed]",
            "text/plain": [
              "<Figure size 720x360 with 2 Axes>"
            ]
          },
          "metadata": {
            "tags": [],
            "needs_background": "light"
          }
        }
      ]
    }
  ]
}